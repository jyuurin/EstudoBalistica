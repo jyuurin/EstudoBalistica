{
  "nbformat": 4,
  "nbformat_minor": 0,
  "metadata": {
    "colab": {
      "provenance": [],
      "authorship_tag": "ABX9TyOHCUgf0mwsNaTzkw59PPdD",
      "include_colab_link": true
    },
    "kernelspec": {
      "name": "python3",
      "display_name": "Python 3"
    },
    "language_info": {
      "name": "python"
    }
  },
  "cells": [
    {
      "cell_type": "markdown",
      "metadata": {
        "id": "view-in-github",
        "colab_type": "text"
      },
      "source": [
        "<a href=\"https://colab.research.google.com/github/jyuurin/EstudoBalistica/blob/main/ExercicioFisica_JuliaMendes.ipynb\" target=\"_parent\"><img src=\"https://colab.research.google.com/assets/colab-badge.svg\" alt=\"Open In Colab\"/></a>"
      ]
    },
    {
      "cell_type": "code",
      "execution_count": null,
      "metadata": {
        "id": "mP4jj2qlG2gt"
      },
      "outputs": [],
      "source": [
        "import math as m\n",
        "import matplotlib.pyplot as plt\n",
        "import pandas as pd"
      ]
    },
    {
      "cell_type": "markdown",
      "source": [
        "Funçoes para todos os calculos necessários no trabalho.\n"
      ],
      "metadata": {
        "id": "bR6lAv0BCpVD"
      }
    },
    {
      "cell_type": "code",
      "source": [
        "\n",
        "forcaG = 9.8\n",
        "\n",
        "#v0x\n",
        "def vel0x(velocidadeInicio, angulo):\n",
        "  angulo = m.radians(angulo)\n",
        "  cosTheta = m.cos(angulo)\n",
        "\n",
        "  return round(velocidadeInicio * cosTheta, 5)\n",
        "\n",
        "#v0y\n",
        "def vel0y(velocidadeInicio, angulo):\n",
        "  angulo = m.radians(angulo)\n",
        "  senTheta = m.sin(angulo)\n",
        "\n",
        "  return round(velocidadeInicio * senTheta,5)\n",
        "\n",
        "#Vy\n",
        "def velocidadeY(velocidadeInicialY, angulo, tempo):\n",
        "  velocidadeInicial = vel0y(velocidadeInicialY, angulo)\n",
        "\n",
        "  return velocidadeInicial - (forcaG * tempo)\n",
        "\n",
        "#posx\n",
        "def alcancesAtingidos(velocidadeInicio, angulo, tempo):\n",
        "  velocidade = vel0x(velocidadeInicio, angulo)\n",
        "\n",
        "  return round(velocidade * tempo, 5)\n",
        "\n",
        "#posy\n",
        "def alturasAtingidas(alturaInicio, velocidadeIncio, angulo, tempo):\n",
        "  velocidadeIncialY = vel0y(velocidadeIncio, angulo)\n",
        "  \n",
        "  return round(alturaInicio + (velocidadeIncialY * tempo) - round(((forcaG * (tempo**2))/2), 5),5)\n",
        "\n",
        "#angulo Instantaneo\n",
        "def anguloIntantaneo(velocidadeY, velocidadeX):\n",
        "  return m.atan(velocidadeY/velocidadeX)\n",
        "\n",
        "#velocidade total\n",
        "def velocidadeTotal(velocidadeX, velocidadeY):\n",
        "  soma = (velocidadeX**2) + (velocidadeY**2)\n",
        "\n",
        "  return round(m.sqrt(soma), 5)"
      ],
      "metadata": {
        "id": "ndf5_EEpM4-t"
      },
      "execution_count": null,
      "outputs": []
    },
    {
      "cell_type": "markdown",
      "source": [
        "Definindo valores atuantes e arrays para guardar todas as informações necessarias da trajetória."
      ],
      "metadata": {
        "id": "soQ6Cm7LDJsp"
      }
    },
    {
      "cell_type": "code",
      "source": [
        "angulo = 45\n",
        "velocidadeInicial = 10\n",
        "posicaoInicio = 0.0\n",
        "tempoInicio = 0.0\n",
        "\n",
        "\n",
        "intervalos = []\n",
        "alcancesEixoX = []\n",
        "alturasEixoY = []\n",
        "velocidades_X = []\n",
        "velocidades_Y = []\n",
        "velocidades_Total = []\n",
        "compVX = []\n",
        "compVY = []\n",
        "angulos = []"
      ],
      "metadata": {
        "id": "GNGtuuLdDKbs"
      },
      "execution_count": null,
      "outputs": []
    },
    {
      "cell_type": "markdown",
      "source": [
        "Trajetória do objeto sendo feita e guardando informações no array"
      ],
      "metadata": {
        "id": "zmmXedHvDVO3"
      }
    },
    {
      "cell_type": "code",
      "source": [
        "while(tempoInicio >= 0):\n",
        "  posicaoX = alcancesAtingidos(velocidadeInicial, angulo, tempoInicio)\n",
        "  posicaoY = alturasAtingidas(posicaoInicio, velocidadeInicial, angulo, tempoInicio)\n",
        "  velocidade0EixoX = vel0x(velocidadeInicial, angulo)\n",
        "  velocidade0EixoY = vel0y(velocidadeInicial, angulo)\n",
        "  velocidade_X = posicaoX\n",
        "  velocidade_Y = velocidadeY(velocidadeInicial, angulo, tempoInicio)\n",
        "  #velocidade_Total = velocidadeTotal(velocidadeInicial, angulo, tempoInicio)\n",
        "  velocidade_Total = velocidadeTotal(velocidade_X, velocidade_Y)\n",
        "\n",
        "  if tempoInicio > 0:\n",
        "    angulo_instantaneo = anguloIntantaneo(velocidadeY(velocidadeInicial, angulo, tempoInicio), vel0x(velocidadeInicial, angulo))\n",
        "  else:\n",
        "    angulo_instantaneo = angulo\n",
        "\n",
        "  intervalos.append(tempoInicio)\n",
        "  alcancesEixoX.append(posicaoX)\n",
        "  alturasEixoY.append(posicaoY)\n",
        "  velocidades_X.append(velocidade_X)\n",
        "  velocidades_Y.append(velocidade_Y)\n",
        "  velocidades_Total.append(velocidade_Total)\n",
        "  compVX.append(velocidade0EixoX)\n",
        "  compVY.append(velocidade0EixoY)\n",
        "  angulos.append(angulo_instantaneo)\n",
        "\n",
        "  if tempoInicio > 0 and posicaoY < 0:\n",
        "    break\n",
        "\n",
        "  tempoInicio += 0.1\n",
        "\n"
      ],
      "metadata": {
        "id": "i8q17-2JDUxQ"
      },
      "execution_count": null,
      "outputs": []
    },
    {
      "cell_type": "markdown",
      "source": [
        "Exibição de informações coletadas"
      ],
      "metadata": {
        "id": "F57x41KCDf58"
      }
    },
    {
      "cell_type": "code",
      "source": [
        "plt.figure('Balística e Lançamento')\n",
        "plt.xlabel(\"Alcance\")\n",
        "plt.ylabel(\"Altura\")\n",
        "plt.plot(alcancesEixoX, alturasEixoY, color=\"orange\")\n",
        "plt.show()\n",
        "\n",
        "tabelaDadosColetados = pd.DataFrame({'Tempo(s)': intervalos, 'Alcances(m)':alcancesEixoX, 'Alturas(m)': alturasEixoY, 'V0x(m/s)': compVX, 'V0y(m/s)': compVY, 'Vx(m/s)': velocidades_X,'Vy(m/s)': velocidades_Y, 'Total': velocidade_Total, 'Angulo (°)': angulos})\n",
        "print(tabelaDadosColetados)\n",
        "\n"
      ],
      "metadata": {
        "colab": {
          "base_uri": "https://localhost:8080/",
          "height": 904
        },
        "id": "gs53TdilDkg-",
        "outputId": "de749d78-91c3-4d83-d5c3-568ed4cd7de3"
      },
      "execution_count": null,
      "outputs": [
        {
          "output_type": "display_data",
          "data": {
            "text/plain": [
              "<Figure size 432x288 with 1 Axes>"
            ],
            "image/png": "[encoded data removed]"
          },
          "metadata": {
            "needs_background": "light"
          }
        },
        {
          "output_type": "stream",
          "name": "stdout",
          "text": [
            "    Tempo(s)  Alcances(m)  Alturas(m)  V0x(m/s)  V0y(m/s)   Vx(m/s)  Vy(m/s)  \\\n",
            "0        0.0      0.00000     0.00000   7.07107   7.07107   0.00000  7.07107   \n",
            "1        0.1      0.70711     0.65811   7.07107   7.07107   0.70711  6.09107   \n",
            "2        0.2      1.41421     1.21821   7.07107   7.07107   1.41421  5.11107   \n",
            "3        0.3      2.12132     1.68032   7.07107   7.07107   2.12132  4.13107   \n",
            "4        0.4      2.82843     2.04443   7.07107   7.07107   2.82843  3.15107   \n",
            "5        0.5      3.53553     2.31053   7.07107   7.07107   3.53553  2.17107   \n",
            "6        0.6      4.24264     2.47864   7.07107   7.07107   4.24264  1.19107   \n",
            "7        0.7      4.94975     2.54875   7.07107   7.07107   4.94975  0.21107   \n",
            "8        0.8      5.65686     2.52086   7.07107   7.07107   5.65686 -0.76893   \n",
            "9        0.9      6.36396     2.39496   7.07107   7.07107   6.36396 -1.74893   \n",
            "10       1.0      7.07107     2.17107   7.07107   7.07107   7.07107 -2.72893   \n",
            "11       1.1      7.77818     1.84918   7.07107   7.07107   7.77818 -3.70893   \n",
            "12       1.2      8.48528     1.42928   7.07107   7.07107   8.48528 -4.68893   \n",
            "13       1.3      9.19239     0.91139   7.07107   7.07107   9.19239 -5.66893   \n",
            "14       1.4      9.89950     0.29550   7.07107   7.07107   9.89950 -6.64893   \n",
            "15       1.5     10.60661    -0.41839   7.07107   7.07107  10.60661 -7.62893   \n",
            "\n",
            "       Total  Angulo (°)  \n",
            "0   13.06525   45.000000  \n",
            "1   13.06525    0.711079  \n",
            "2   13.06525    0.625874  \n",
            "3   13.06525    0.528737  \n",
            "4   13.06525    0.419213  \n",
            "5   13.06525    0.297899  \n",
            "6   13.06525    0.166876  \n",
            "7   13.06525    0.029841  \n",
            "8   13.06525   -0.108317  \n",
            "9   13.06525   -0.242470  \n",
            "10  13.06525   -0.368318  \n",
            "11  13.06525   -0.483072  \n",
            "12  13.06525   -0.585539  \n",
            "13  13.06525   -0.675781  \n",
            "14  13.06525   -0.754640  \n",
            "15  13.06525   -0.823330  \n"
          ]
        }
      ]
    }
  ]
}